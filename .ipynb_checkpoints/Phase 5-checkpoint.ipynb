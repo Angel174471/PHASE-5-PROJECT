{
 "cells": [
  {
   "cell_type": "markdown",
   "metadata": {},
   "source": [
    "# Data Cleaning"
   ]
  },
  {
   "cell_type": "code",
   "execution_count": 27,
   "metadata": {},
   "outputs": [],
   "source": [
    "#import necessary libraries\n",
    "import pandas as pd\n",
    "import numpy as np\n",
    "import matplotlib.pyplot as plt\n",
    "import seaborn as sns"
   ]
  },
  {
   "cell_type": "markdown",
   "metadata": {},
   "source": [
    "### Load the data and view the dataframes"
   ]
  },
  {
   "cell_type": "code",
   "execution_count": 2,
   "metadata": {},
   "outputs": [
    {
     "data": {
      "text/html": [
       "<div>\n",
       "<style scoped>\n",
       "    .dataframe tbody tr th:only-of-type {\n",
       "        vertical-align: middle;\n",
       "    }\n",
       "\n",
       "    .dataframe tbody tr th {\n",
       "        vertical-align: top;\n",
       "    }\n",
       "\n",
       "    .dataframe thead th {\n",
       "        text-align: right;\n",
       "    }\n",
       "</style>\n",
       "<table border=\"1\" class=\"dataframe\">\n",
       "  <thead>\n",
       "    <tr style=\"text-align: right;\">\n",
       "      <th></th>\n",
       "      <th>Date</th>\n",
       "      <th>Open</th>\n",
       "      <th>High</th>\n",
       "      <th>Low</th>\n",
       "      <th>Close</th>\n",
       "      <th>Volume</th>\n",
       "    </tr>\n",
       "  </thead>\n",
       "  <tbody>\n",
       "    <tr>\n",
       "      <th>0</th>\n",
       "      <td>01/10/24</td>\n",
       "      <td>13.60</td>\n",
       "      <td>14.10</td>\n",
       "      <td>13.60</td>\n",
       "      <td>13.80</td>\n",
       "      <td>4438100</td>\n",
       "    </tr>\n",
       "    <tr>\n",
       "      <th>1</th>\n",
       "      <td>01/09/24</td>\n",
       "      <td>13.85</td>\n",
       "      <td>14.10</td>\n",
       "      <td>13.60</td>\n",
       "      <td>13.65</td>\n",
       "      <td>2192400</td>\n",
       "    </tr>\n",
       "    <tr>\n",
       "      <th>2</th>\n",
       "      <td>01/08/24</td>\n",
       "      <td>13.70</td>\n",
       "      <td>14.00</td>\n",
       "      <td>13.60</td>\n",
       "      <td>13.85</td>\n",
       "      <td>248500</td>\n",
       "    </tr>\n",
       "    <tr>\n",
       "      <th>3</th>\n",
       "      <td>01/05/24</td>\n",
       "      <td>13.80</td>\n",
       "      <td>14.00</td>\n",
       "      <td>13.55</td>\n",
       "      <td>13.60</td>\n",
       "      <td>5622200</td>\n",
       "    </tr>\n",
       "    <tr>\n",
       "      <th>4</th>\n",
       "      <td>01/04/24</td>\n",
       "      <td>13.65</td>\n",
       "      <td>13.80</td>\n",
       "      <td>13.55</td>\n",
       "      <td>13.60</td>\n",
       "      <td>1000500</td>\n",
       "    </tr>\n",
       "    <tr>\n",
       "      <th>...</th>\n",
       "      <td>...</td>\n",
       "      <td>...</td>\n",
       "      <td>...</td>\n",
       "      <td>...</td>\n",
       "      <td>...</td>\n",
       "      <td>...</td>\n",
       "    </tr>\n",
       "    <tr>\n",
       "      <th>3894</th>\n",
       "      <td>06/13/08</td>\n",
       "      <td>7.35</td>\n",
       "      <td>7.45</td>\n",
       "      <td>7.45</td>\n",
       "      <td>7.45</td>\n",
       "      <td>250901500</td>\n",
       "    </tr>\n",
       "    <tr>\n",
       "      <th>3895</th>\n",
       "      <td>06/12/08</td>\n",
       "      <td>7.35</td>\n",
       "      <td>7.35</td>\n",
       "      <td>7.35</td>\n",
       "      <td>7.35</td>\n",
       "      <td>131243703</td>\n",
       "    </tr>\n",
       "    <tr>\n",
       "      <th>3896</th>\n",
       "      <td>06/11/08</td>\n",
       "      <td>7.00</td>\n",
       "      <td>7.00</td>\n",
       "      <td>7.00</td>\n",
       "      <td>7.00</td>\n",
       "      <td>183494797</td>\n",
       "    </tr>\n",
       "    <tr>\n",
       "      <th>3897</th>\n",
       "      <td>06/10/08</td>\n",
       "      <td>6.95</td>\n",
       "      <td>6.95</td>\n",
       "      <td>6.95</td>\n",
       "      <td>6.95</td>\n",
       "      <td>127305797</td>\n",
       "    </tr>\n",
       "    <tr>\n",
       "      <th>3898</th>\n",
       "      <td>06/09/08</td>\n",
       "      <td>7.35</td>\n",
       "      <td>7.35</td>\n",
       "      <td>7.35</td>\n",
       "      <td>7.35</td>\n",
       "      <td>416383094</td>\n",
       "    </tr>\n",
       "  </tbody>\n",
       "</table>\n",
       "<p>3899 rows × 6 columns</p>\n",
       "</div>"
      ],
      "text/plain": [
       "          Date   Open   High    Low   Close     Volume\n",
       "0     01/10/24  13.60  14.10  13.60   13.80    4438100\n",
       "1     01/09/24  13.85  14.10  13.60   13.65    2192400\n",
       "2     01/08/24  13.70  14.00  13.60   13.85     248500\n",
       "3     01/05/24  13.80  14.00  13.55   13.60    5622200\n",
       "4     01/04/24  13.65  13.80  13.55   13.60    1000500\n",
       "...        ...    ...    ...    ...     ...        ...\n",
       "3894  06/13/08   7.35   7.45   7.45    7.45  250901500\n",
       "3895  06/12/08   7.35   7.35   7.35    7.35  131243703\n",
       "3896  06/11/08   7.00   7.00   7.00    7.00  183494797\n",
       "3897  06/10/08   6.95   6.95   6.95    6.95  127305797\n",
       "3898  06/09/08   7.35   7.35   7.35    7.35  416383094\n",
       "\n",
       "[3899 rows x 6 columns]"
      ]
     },
     "execution_count": 2,
     "metadata": {},
     "output_type": "execute_result"
    }
   ],
   "source": [
    "historical_prices_df = pd.read_csv('data/HistoricalPrices.csv')\n",
    "historical_prices_df"
   ]
  },
  {
   "cell_type": "code",
   "execution_count": 3,
   "metadata": {},
   "outputs": [
    {
     "data": {
      "text/html": [
       "<div>\n",
       "<style scoped>\n",
       "    .dataframe tbody tr th:only-of-type {\n",
       "        vertical-align: middle;\n",
       "    }\n",
       "\n",
       "    .dataframe tbody tr th {\n",
       "        vertical-align: top;\n",
       "    }\n",
       "\n",
       "    .dataframe thead th {\n",
       "        text-align: right;\n",
       "    }\n",
       "</style>\n",
       "<table border=\"1\" class=\"dataframe\">\n",
       "  <thead>\n",
       "    <tr style=\"text-align: right;\">\n",
       "      <th></th>\n",
       "      <th>Year</th>\n",
       "      <th>Nominal GDP prices (Ksh Million)</th>\n",
       "      <th>Annual GDP growth (%)</th>\n",
       "      <th>Real GDP prices (Ksh Million)</th>\n",
       "    </tr>\n",
       "  </thead>\n",
       "  <tbody>\n",
       "    <tr>\n",
       "      <th>0</th>\n",
       "      <td>2022</td>\n",
       "      <td>13,483,003</td>\n",
       "      <td>4.8</td>\n",
       "      <td>9,851,329</td>\n",
       "    </tr>\n",
       "    <tr>\n",
       "      <th>1</th>\n",
       "      <td>2021</td>\n",
       "      <td>12,027,662</td>\n",
       "      <td>7.6</td>\n",
       "      <td>9,395,942</td>\n",
       "    </tr>\n",
       "    <tr>\n",
       "      <th>2</th>\n",
       "      <td>2020</td>\n",
       "      <td>10,715,070</td>\n",
       "      <td>-0.3</td>\n",
       "      <td>8,733,060</td>\n",
       "    </tr>\n",
       "    <tr>\n",
       "      <th>3</th>\n",
       "      <td>2019</td>\n",
       "      <td>10,237,727</td>\n",
       "      <td>5.1</td>\n",
       "      <td>8,756,946</td>\n",
       "    </tr>\n",
       "    <tr>\n",
       "      <th>4</th>\n",
       "      <td>2018</td>\n",
       "      <td>9,340,307</td>\n",
       "      <td>5.6</td>\n",
       "      <td>8,330,891</td>\n",
       "    </tr>\n",
       "    <tr>\n",
       "      <th>5</th>\n",
       "      <td>2017</td>\n",
       "      <td>8,483,396</td>\n",
       "      <td>3.8</td>\n",
       "      <td>7,885,521</td>\n",
       "    </tr>\n",
       "    <tr>\n",
       "      <th>6</th>\n",
       "      <td>2016</td>\n",
       "      <td>7,594,064</td>\n",
       "      <td>4.2</td>\n",
       "      <td>7,594,064</td>\n",
       "    </tr>\n",
       "    <tr>\n",
       "      <th>7</th>\n",
       "      <td>2015</td>\n",
       "      <td>6,884,317</td>\n",
       "      <td>5.0</td>\n",
       "      <td>7,287,024</td>\n",
       "    </tr>\n",
       "    <tr>\n",
       "      <th>8</th>\n",
       "      <td>2014</td>\n",
       "      <td>6,003,835</td>\n",
       "      <td>5.0</td>\n",
       "      <td>6,942,157</td>\n",
       "    </tr>\n",
       "    <tr>\n",
       "      <th>9</th>\n",
       "      <td>2013</td>\n",
       "      <td>5,311,322</td>\n",
       "      <td>3.8</td>\n",
       "      <td>6,610,312</td>\n",
       "    </tr>\n",
       "    <tr>\n",
       "      <th>10</th>\n",
       "      <td>2012</td>\n",
       "      <td>4,767,191</td>\n",
       "      <td>4.6</td>\n",
       "      <td>6,368,448</td>\n",
       "    </tr>\n",
       "    <tr>\n",
       "      <th>11</th>\n",
       "      <td>2011</td>\n",
       "      <td>4,162,514</td>\n",
       "      <td>5.1</td>\n",
       "      <td>6,090,206</td>\n",
       "    </tr>\n",
       "    <tr>\n",
       "      <th>12</th>\n",
       "      <td>2010</td>\n",
       "      <td>3,597,630</td>\n",
       "      <td>8.1</td>\n",
       "      <td>5,793,514</td>\n",
       "    </tr>\n",
       "    <tr>\n",
       "      <th>13</th>\n",
       "      <td>2009</td>\n",
       "      <td>3,275,642</td>\n",
       "      <td>2.7</td>\n",
       "      <td>5,361,462</td>\n",
       "    </tr>\n",
       "    <tr>\n",
       "      <th>14</th>\n",
       "      <td>2008</td>\n",
       "      <td>2,107,589</td>\n",
       "      <td>1.5</td>\n",
       "      <td>1,357,262</td>\n",
       "    </tr>\n",
       "    <tr>\n",
       "      <th>15</th>\n",
       "      <td>2007</td>\n",
       "      <td>1,833,511</td>\n",
       "      <td>6.9</td>\n",
       "      <td>1,336,849</td>\n",
       "    </tr>\n",
       "    <tr>\n",
       "      <th>16</th>\n",
       "      <td>2006</td>\n",
       "      <td>1,622,565</td>\n",
       "      <td>6.5</td>\n",
       "      <td>1,249,470</td>\n",
       "    </tr>\n",
       "    <tr>\n",
       "      <th>17</th>\n",
       "      <td>2005</td>\n",
       "      <td>1,415,823</td>\n",
       "      <td>5.7</td>\n",
       "      <td>1,172,784</td>\n",
       "    </tr>\n",
       "    <tr>\n",
       "      <th>18</th>\n",
       "      <td>2004</td>\n",
       "      <td>1,274,328</td>\n",
       "      <td>5.1</td>\n",
       "      <td>1,109,338</td>\n",
       "    </tr>\n",
       "    <tr>\n",
       "      <th>19</th>\n",
       "      <td>2003</td>\n",
       "      <td>1,131,783</td>\n",
       "      <td>2.9</td>\n",
       "      <td>1,055,658</td>\n",
       "    </tr>\n",
       "    <tr>\n",
       "      <th>20</th>\n",
       "      <td>2002</td>\n",
       "      <td>1,035,374</td>\n",
       "      <td>0.5</td>\n",
       "      <td>1,025,583</td>\n",
       "    </tr>\n",
       "    <tr>\n",
       "      <th>21</th>\n",
       "      <td>2001</td>\n",
       "      <td>1,020,022</td>\n",
       "      <td>3.8</td>\n",
       "      <td>1,020,111</td>\n",
       "    </tr>\n",
       "    <tr>\n",
       "      <th>22</th>\n",
       "      <td>2000</td>\n",
       "      <td>967,838</td>\n",
       "      <td>0.0</td>\n",
       "      <td>982,855</td>\n",
       "    </tr>\n",
       "    <tr>\n",
       "      <th>23</th>\n",
       "      <td>0</td>\n",
       "      <td>0</td>\n",
       "      <td>0.0</td>\n",
       "      <td>0</td>\n",
       "    </tr>\n",
       "  </tbody>\n",
       "</table>\n",
       "</div>"
      ],
      "text/plain": [
       "    Year Nominal GDP prices (Ksh Million)  Annual GDP growth (%)  \\\n",
       "0   2022                       13,483,003                    4.8   \n",
       "1   2021                       12,027,662                    7.6   \n",
       "2   2020                       10,715,070                   -0.3   \n",
       "3   2019                       10,237,727                    5.1   \n",
       "4   2018                        9,340,307                    5.6   \n",
       "5   2017                        8,483,396                    3.8   \n",
       "6   2016                        7,594,064                    4.2   \n",
       "7   2015                        6,884,317                    5.0   \n",
       "8   2014                        6,003,835                    5.0   \n",
       "9   2013                        5,311,322                    3.8   \n",
       "10  2012                        4,767,191                    4.6   \n",
       "11  2011                        4,162,514                    5.1   \n",
       "12  2010                        3,597,630                    8.1   \n",
       "13  2009                        3,275,642                    2.7   \n",
       "14  2008                        2,107,589                    1.5   \n",
       "15  2007                        1,833,511                    6.9   \n",
       "16  2006                        1,622,565                    6.5   \n",
       "17  2005                        1,415,823                    5.7   \n",
       "18  2004                        1,274,328                    5.1   \n",
       "19  2003                        1,131,783                    2.9   \n",
       "20  2002                        1,035,374                    0.5   \n",
       "21  2001                        1,020,022                    3.8   \n",
       "22  2000                          967,838                    0.0   \n",
       "23     0                                0                    0.0   \n",
       "\n",
       "   Real GDP prices (Ksh Million)  \n",
       "0                      9,851,329  \n",
       "1                      9,395,942  \n",
       "2                      8,733,060  \n",
       "3                      8,756,946  \n",
       "4                      8,330,891  \n",
       "5                      7,885,521  \n",
       "6                      7,594,064  \n",
       "7                      7,287,024  \n",
       "8                      6,942,157  \n",
       "9                      6,610,312  \n",
       "10                     6,368,448  \n",
       "11                     6,090,206  \n",
       "12                     5,793,514  \n",
       "13                     5,361,462  \n",
       "14                     1,357,262  \n",
       "15                     1,336,849  \n",
       "16                     1,249,470  \n",
       "17                     1,172,784  \n",
       "18                     1,109,338  \n",
       "19                     1,055,658  \n",
       "20                     1,025,583  \n",
       "21                     1,020,111  \n",
       "22                       982,855  \n",
       "23                             0  "
      ]
     },
     "execution_count": 3,
     "metadata": {},
     "output_type": "execute_result"
    }
   ],
   "source": [
    "annual_GDP_df = pd.read_csv('data/Annual GDP.csv')\n",
    "annual_GDP_df"
   ]
  },
  {
   "cell_type": "code",
   "execution_count": 4,
   "metadata": {},
   "outputs": [
    {
     "data": {
      "text/html": [
       "<div>\n",
       "<style scoped>\n",
       "    .dataframe tbody tr th:only-of-type {\n",
       "        vertical-align: middle;\n",
       "    }\n",
       "\n",
       "    .dataframe tbody tr th {\n",
       "        vertical-align: top;\n",
       "    }\n",
       "\n",
       "    .dataframe thead th {\n",
       "        text-align: right;\n",
       "    }\n",
       "</style>\n",
       "<table border=\"1\" class=\"dataframe\">\n",
       "  <thead>\n",
       "    <tr style=\"text-align: right;\">\n",
       "      <th></th>\n",
       "      <th>Date</th>\n",
       "      <th>Rate</th>\n",
       "    </tr>\n",
       "  </thead>\n",
       "  <tbody>\n",
       "    <tr>\n",
       "      <th>0</th>\n",
       "      <td>05/12/2023</td>\n",
       "      <td>12.5</td>\n",
       "    </tr>\n",
       "    <tr>\n",
       "      <th>1</th>\n",
       "      <td>03/10/2023</td>\n",
       "      <td>10.5</td>\n",
       "    </tr>\n",
       "    <tr>\n",
       "      <th>2</th>\n",
       "      <td>09/08/2023</td>\n",
       "      <td>10.5</td>\n",
       "    </tr>\n",
       "    <tr>\n",
       "      <th>3</th>\n",
       "      <td>26/06/2023</td>\n",
       "      <td>10.5</td>\n",
       "    </tr>\n",
       "    <tr>\n",
       "      <th>4</th>\n",
       "      <td>29/05/2023</td>\n",
       "      <td>9.5</td>\n",
       "    </tr>\n",
       "    <tr>\n",
       "      <th>...</th>\n",
       "      <td>...</td>\n",
       "      <td>...</td>\n",
       "    </tr>\n",
       "    <tr>\n",
       "      <th>103</th>\n",
       "      <td>01/12/2008</td>\n",
       "      <td>8.5</td>\n",
       "    </tr>\n",
       "    <tr>\n",
       "      <th>104</th>\n",
       "      <td>29/10/2008</td>\n",
       "      <td>9.0</td>\n",
       "    </tr>\n",
       "    <tr>\n",
       "      <th>105</th>\n",
       "      <td>01/10/2008</td>\n",
       "      <td>9.0</td>\n",
       "    </tr>\n",
       "    <tr>\n",
       "      <th>106</th>\n",
       "      <td>29/09/2008</td>\n",
       "      <td>9.0</td>\n",
       "    </tr>\n",
       "    <tr>\n",
       "      <th>107</th>\n",
       "      <td>06/08/2008</td>\n",
       "      <td>9.0</td>\n",
       "    </tr>\n",
       "  </tbody>\n",
       "</table>\n",
       "<p>108 rows × 2 columns</p>\n",
       "</div>"
      ],
      "text/plain": [
       "           Date  Rate\n",
       "0    05/12/2023  12.5\n",
       "1    03/10/2023  10.5\n",
       "2    09/08/2023  10.5\n",
       "3    26/06/2023  10.5\n",
       "4    29/05/2023   9.5\n",
       "..          ...   ...\n",
       "103  01/12/2008   8.5\n",
       "104  29/10/2008   9.0\n",
       "105  01/10/2008   9.0\n",
       "106  29/09/2008   9.0\n",
       "107  06/08/2008   9.0\n",
       "\n",
       "[108 rows x 2 columns]"
      ]
     },
     "execution_count": 4,
     "metadata": {},
     "output_type": "execute_result"
    }
   ],
   "source": [
    "interest_rate_df = pd.read_csv('data/InterestRates.csv')\n",
    "interest_rate_df "
   ]
  },
  {
   "cell_type": "code",
   "execution_count": 5,
   "metadata": {},
   "outputs": [
    {
     "data": {
      "text/html": [
       "<div>\n",
       "<style scoped>\n",
       "    .dataframe tbody tr th:only-of-type {\n",
       "        vertical-align: middle;\n",
       "    }\n",
       "\n",
       "    .dataframe tbody tr th {\n",
       "        vertical-align: top;\n",
       "    }\n",
       "\n",
       "    .dataframe thead th {\n",
       "        text-align: right;\n",
       "    }\n",
       "</style>\n",
       "<table border=\"1\" class=\"dataframe\">\n",
       "  <thead>\n",
       "    <tr style=\"text-align: right;\">\n",
       "      <th></th>\n",
       "      <th>date</th>\n",
       "      <th>Inflation Rate (%)</th>\n",
       "      <th>Annual Change</th>\n",
       "      <th></th>\n",
       "    </tr>\n",
       "  </thead>\n",
       "  <tbody>\n",
       "    <tr>\n",
       "      <th>0</th>\n",
       "      <td>31/12/1960</td>\n",
       "      <td>1.2438</td>\n",
       "      <td>NaN</td>\n",
       "      <td>NaN</td>\n",
       "    </tr>\n",
       "    <tr>\n",
       "      <th>1</th>\n",
       "      <td>31/12/1961</td>\n",
       "      <td>2.4570</td>\n",
       "      <td>1.21</td>\n",
       "      <td>NaN</td>\n",
       "    </tr>\n",
       "    <tr>\n",
       "      <th>2</th>\n",
       "      <td>31/12/1962</td>\n",
       "      <td>3.1175</td>\n",
       "      <td>0.66</td>\n",
       "      <td>NaN</td>\n",
       "    </tr>\n",
       "    <tr>\n",
       "      <th>3</th>\n",
       "      <td>31/12/1963</td>\n",
       "      <td>0.6977</td>\n",
       "      <td>-2.42</td>\n",
       "      <td>NaN</td>\n",
       "    </tr>\n",
       "    <tr>\n",
       "      <th>4</th>\n",
       "      <td>31/12/1964</td>\n",
       "      <td>-0.0993</td>\n",
       "      <td>-0.80</td>\n",
       "      <td>NaN</td>\n",
       "    </tr>\n",
       "    <tr>\n",
       "      <th>...</th>\n",
       "      <td>...</td>\n",
       "      <td>...</td>\n",
       "      <td>...</td>\n",
       "      <td>...</td>\n",
       "    </tr>\n",
       "    <tr>\n",
       "      <th>58</th>\n",
       "      <td>31/12/2018</td>\n",
       "      <td>4.6898</td>\n",
       "      <td>-3.32</td>\n",
       "      <td>NaN</td>\n",
       "    </tr>\n",
       "    <tr>\n",
       "      <th>59</th>\n",
       "      <td>31/12/2019</td>\n",
       "      <td>5.2359</td>\n",
       "      <td>0.55</td>\n",
       "      <td>NaN</td>\n",
       "    </tr>\n",
       "    <tr>\n",
       "      <th>60</th>\n",
       "      <td>31/12/2020</td>\n",
       "      <td>5.4048</td>\n",
       "      <td>0.17</td>\n",
       "      <td>NaN</td>\n",
       "    </tr>\n",
       "    <tr>\n",
       "      <th>61</th>\n",
       "      <td>31/12/2021</td>\n",
       "      <td>6.1109</td>\n",
       "      <td>0.71</td>\n",
       "      <td>NaN</td>\n",
       "    </tr>\n",
       "    <tr>\n",
       "      <th>62</th>\n",
       "      <td>31/12/2022</td>\n",
       "      <td>7.6569</td>\n",
       "      <td>1.55</td>\n",
       "      <td>NaN</td>\n",
       "    </tr>\n",
       "  </tbody>\n",
       "</table>\n",
       "<p>63 rows × 4 columns</p>\n",
       "</div>"
      ],
      "text/plain": [
       "          date   Inflation Rate (%)   Annual Change    \n",
       "0   31/12/1960               1.2438             NaN NaN\n",
       "1   31/12/1961               2.4570            1.21 NaN\n",
       "2   31/12/1962               3.1175            0.66 NaN\n",
       "3   31/12/1963               0.6977           -2.42 NaN\n",
       "4   31/12/1964              -0.0993           -0.80 NaN\n",
       "..         ...                  ...             ...  ..\n",
       "58  31/12/2018               4.6898           -3.32 NaN\n",
       "59  31/12/2019               5.2359            0.55 NaN\n",
       "60  31/12/2020               5.4048            0.17 NaN\n",
       "61  31/12/2021               6.1109            0.71 NaN\n",
       "62  31/12/2022               7.6569            1.55 NaN\n",
       "\n",
       "[63 rows x 4 columns]"
      ]
     },
     "execution_count": 5,
     "metadata": {},
     "output_type": "execute_result"
    }
   ],
   "source": [
    "inflation_df = pd.read_csv('data/kenya-inflation-rate-cpi.csv')\n",
    "inflation_df"
   ]
  },
  {
   "cell_type": "code",
   "execution_count": 6,
   "metadata": {},
   "outputs": [
    {
     "data": {
      "text/html": [
       "<div>\n",
       "<style scoped>\n",
       "    .dataframe tbody tr th:only-of-type {\n",
       "        vertical-align: middle;\n",
       "    }\n",
       "\n",
       "    .dataframe tbody tr th {\n",
       "        vertical-align: top;\n",
       "    }\n",
       "\n",
       "    .dataframe thead th {\n",
       "        text-align: right;\n",
       "    }\n",
       "</style>\n",
       "<table border=\"1\" class=\"dataframe\">\n",
       "  <thead>\n",
       "    <tr style=\"text-align: right;\">\n",
       "      <th></th>\n",
       "      <th>date</th>\n",
       "      <th>GDP Growth (%)</th>\n",
       "      <th>Annual Change</th>\n",
       "      <th></th>\n",
       "    </tr>\n",
       "  </thead>\n",
       "  <tbody>\n",
       "    <tr>\n",
       "      <th>0</th>\n",
       "      <td>31/12/1961</td>\n",
       "      <td>-7.7746</td>\n",
       "      <td>NaN</td>\n",
       "      <td>NaN</td>\n",
       "    </tr>\n",
       "    <tr>\n",
       "      <th>1</th>\n",
       "      <td>31/12/1962</td>\n",
       "      <td>9.4574</td>\n",
       "      <td>17.23</td>\n",
       "      <td>NaN</td>\n",
       "    </tr>\n",
       "    <tr>\n",
       "      <th>2</th>\n",
       "      <td>31/12/1963</td>\n",
       "      <td>8.7783</td>\n",
       "      <td>-0.68</td>\n",
       "      <td>NaN</td>\n",
       "    </tr>\n",
       "    <tr>\n",
       "      <th>3</th>\n",
       "      <td>31/12/1964</td>\n",
       "      <td>4.9645</td>\n",
       "      <td>-3.81</td>\n",
       "      <td>NaN</td>\n",
       "    </tr>\n",
       "    <tr>\n",
       "      <th>4</th>\n",
       "      <td>31/12/1965</td>\n",
       "      <td>2.0091</td>\n",
       "      <td>-2.96</td>\n",
       "      <td>NaN</td>\n",
       "    </tr>\n",
       "    <tr>\n",
       "      <th>...</th>\n",
       "      <td>...</td>\n",
       "      <td>...</td>\n",
       "      <td>...</td>\n",
       "      <td>...</td>\n",
       "    </tr>\n",
       "    <tr>\n",
       "      <th>57</th>\n",
       "      <td>31/12/2018</td>\n",
       "      <td>5.6479</td>\n",
       "      <td>1.81</td>\n",
       "      <td>NaN</td>\n",
       "    </tr>\n",
       "    <tr>\n",
       "      <th>58</th>\n",
       "      <td>31/12/2019</td>\n",
       "      <td>5.1142</td>\n",
       "      <td>-0.53</td>\n",
       "      <td>NaN</td>\n",
       "    </tr>\n",
       "    <tr>\n",
       "      <th>59</th>\n",
       "      <td>31/12/2020</td>\n",
       "      <td>-0.2728</td>\n",
       "      <td>-5.39</td>\n",
       "      <td>NaN</td>\n",
       "    </tr>\n",
       "    <tr>\n",
       "      <th>60</th>\n",
       "      <td>31/12/2021</td>\n",
       "      <td>7.5905</td>\n",
       "      <td>7.86</td>\n",
       "      <td>NaN</td>\n",
       "    </tr>\n",
       "    <tr>\n",
       "      <th>61</th>\n",
       "      <td>31/12/2022</td>\n",
       "      <td>4.8466</td>\n",
       "      <td>-2.74</td>\n",
       "      <td>NaN</td>\n",
       "    </tr>\n",
       "  </tbody>\n",
       "</table>\n",
       "<p>62 rows × 4 columns</p>\n",
       "</div>"
      ],
      "text/plain": [
       "          date   GDP Growth (%)   Annual Change    \n",
       "0   31/12/1961          -7.7746             NaN NaN\n",
       "1   31/12/1962           9.4574           17.23 NaN\n",
       "2   31/12/1963           8.7783           -0.68 NaN\n",
       "3   31/12/1964           4.9645           -3.81 NaN\n",
       "4   31/12/1965           2.0091           -2.96 NaN\n",
       "..         ...              ...             ...  ..\n",
       "57  31/12/2018           5.6479            1.81 NaN\n",
       "58  31/12/2019           5.1142           -0.53 NaN\n",
       "59  31/12/2020          -0.2728           -5.39 NaN\n",
       "60  31/12/2021           7.5905            7.86 NaN\n",
       "61  31/12/2022           4.8466           -2.74 NaN\n",
       "\n",
       "[62 rows x 4 columns]"
      ]
     },
     "execution_count": 6,
     "metadata": {},
     "output_type": "execute_result"
    }
   ],
   "source": [
    "gdp_growth_df = pd.read_csv('data/kenya-gdp-growth-rate.csv')\n",
    "gdp_growth_df"
   ]
  },
  {
   "cell_type": "code",
   "execution_count": 7,
   "metadata": {},
   "outputs": [
    {
     "data": {
      "text/html": [
       "<div>\n",
       "<style scoped>\n",
       "    .dataframe tbody tr th:only-of-type {\n",
       "        vertical-align: middle;\n",
       "    }\n",
       "\n",
       "    .dataframe tbody tr th {\n",
       "        vertical-align: top;\n",
       "    }\n",
       "\n",
       "    .dataframe thead th {\n",
       "        text-align: right;\n",
       "    }\n",
       "</style>\n",
       "<table border=\"1\" class=\"dataframe\">\n",
       "  <thead>\n",
       "    <tr style=\"text-align: right;\">\n",
       "      <th></th>\n",
       "      <th>Unnamed: 0</th>\n",
       "      <th>GDP</th>\n",
       "      <th>Per Capita</th>\n",
       "      <th>Growth Rate</th>\n",
       "    </tr>\n",
       "  </thead>\n",
       "  <tbody>\n",
       "    <tr>\n",
       "      <th>0</th>\n",
       "      <td>date</td>\n",
       "      <td>Billions of US $</td>\n",
       "      <td>US $</td>\n",
       "      <td>Annual % Change</td>\n",
       "    </tr>\n",
       "    <tr>\n",
       "      <th>1</th>\n",
       "      <td>31/12/1960</td>\n",
       "      <td>0.791265459</td>\n",
       "      <td>102.0799</td>\n",
       "      <td>NaN</td>\n",
       "    </tr>\n",
       "    <tr>\n",
       "      <th>2</th>\n",
       "      <td>31/12/1961</td>\n",
       "      <td>0.792959472</td>\n",
       "      <td>98.5353</td>\n",
       "      <td>-7.7746</td>\n",
       "    </tr>\n",
       "    <tr>\n",
       "      <th>3</th>\n",
       "      <td>31/12/1962</td>\n",
       "      <td>0.8681114</td>\n",
       "      <td>103.7967</td>\n",
       "      <td>9.4574</td>\n",
       "    </tr>\n",
       "    <tr>\n",
       "      <th>4</th>\n",
       "      <td>31/12/1963</td>\n",
       "      <td>0.926589349</td>\n",
       "      <td>106.5388</td>\n",
       "      <td>8.7783</td>\n",
       "    </tr>\n",
       "    <tr>\n",
       "      <th>...</th>\n",
       "      <td>...</td>\n",
       "      <td>...</td>\n",
       "      <td>...</td>\n",
       "      <td>...</td>\n",
       "    </tr>\n",
       "    <tr>\n",
       "      <th>59</th>\n",
       "      <td>31/12/2018</td>\n",
       "      <td>92.20297994</td>\n",
       "      <td>1845.7834</td>\n",
       "      <td>5.6479</td>\n",
       "    </tr>\n",
       "    <tr>\n",
       "      <th>60</th>\n",
       "      <td>31/12/2019</td>\n",
       "      <td>100.3784358</td>\n",
       "      <td>1970.0801</td>\n",
       "      <td>5.1142</td>\n",
       "    </tr>\n",
       "    <tr>\n",
       "      <th>61</th>\n",
       "      <td>31/12/2020</td>\n",
       "      <td>100.6575056</td>\n",
       "      <td>1936.2508</td>\n",
       "      <td>-0.2728</td>\n",
       "    </tr>\n",
       "    <tr>\n",
       "      <th>62</th>\n",
       "      <td>31/12/2021</td>\n",
       "      <td>109.7036593</td>\n",
       "      <td>2069.6611</td>\n",
       "      <td>7.5905</td>\n",
       "    </tr>\n",
       "    <tr>\n",
       "      <th>63</th>\n",
       "      <td>31/12/2022</td>\n",
       "      <td>113.4200082</td>\n",
       "      <td>2099.3019</td>\n",
       "      <td>4.8466</td>\n",
       "    </tr>\n",
       "  </tbody>\n",
       "</table>\n",
       "<p>64 rows × 4 columns</p>\n",
       "</div>"
      ],
      "text/plain": [
       "    Unnamed: 0                GDP  Per Capita       Growth Rate\n",
       "0         date   Billions of US $        US $   Annual % Change\n",
       "1   31/12/1960        0.791265459    102.0799               NaN\n",
       "2   31/12/1961        0.792959472     98.5353           -7.7746\n",
       "3   31/12/1962          0.8681114    103.7967            9.4574\n",
       "4   31/12/1963        0.926589349    106.5388            8.7783\n",
       "..         ...                ...         ...               ...\n",
       "59  31/12/2018        92.20297994   1845.7834            5.6479\n",
       "60  31/12/2019        100.3784358   1970.0801            5.1142\n",
       "61  31/12/2020        100.6575056   1936.2508           -0.2728\n",
       "62  31/12/2021        109.7036593   2069.6611            7.5905\n",
       "63  31/12/2022        113.4200082   2099.3019            4.8466\n",
       "\n",
       "[64 rows x 4 columns]"
      ]
     },
     "execution_count": 7,
     "metadata": {},
     "output_type": "execute_result"
    }
   ],
   "source": [
    "economic_growth_df = pd.read_csv('data/kenya-economic-growth-rate.csv')\n",
    "economic_growth_df"
   ]
  },
  {
   "cell_type": "markdown",
   "metadata": {},
   "source": [
    "### View the data types"
   ]
  },
  {
   "cell_type": "code",
   "execution_count": 8,
   "metadata": {},
   "outputs": [
    {
     "data": {
      "text/plain": [
       "Unnamed: 0      object\n",
       " GDP            object\n",
       " Per Capita     object\n",
       " Growth Rate    object\n",
       "dtype: object"
      ]
     },
     "execution_count": 8,
     "metadata": {},
     "output_type": "execute_result"
    }
   ],
   "source": [
    "economic_growth_df.dtypes"
   ]
  },
  {
   "cell_type": "code",
   "execution_count": 9,
   "metadata": {},
   "outputs": [
    {
     "data": {
      "text/plain": [
       "date                object\n",
       " GDP Growth (%)    float64\n",
       " Annual Change     float64\n",
       "                   float64\n",
       "dtype: object"
      ]
     },
     "execution_count": 9,
     "metadata": {},
     "output_type": "execute_result"
    }
   ],
   "source": [
    "gdp_growth_df.dtypes"
   ]
  },
  {
   "cell_type": "code",
   "execution_count": 10,
   "metadata": {},
   "outputs": [
    {
     "data": {
      "text/plain": [
       "Date     object\n",
       "Rate    float64\n",
       "dtype: object"
      ]
     },
     "execution_count": 10,
     "metadata": {},
     "output_type": "execute_result"
    }
   ],
   "source": [
    "interest_rate_df.dtypes"
   ]
  },
  {
   "cell_type": "code",
   "execution_count": 11,
   "metadata": {},
   "outputs": [
    {
     "data": {
      "text/plain": [
       "date                    object\n",
       " Inflation Rate (%)    float64\n",
       " Annual Change         float64\n",
       "                       float64\n",
       "dtype: object"
      ]
     },
     "execution_count": 11,
     "metadata": {},
     "output_type": "execute_result"
    }
   ],
   "source": [
    "inflation_df.dtypes"
   ]
  },
  {
   "cell_type": "code",
   "execution_count": 12,
   "metadata": {},
   "outputs": [
    {
     "data": {
      "text/plain": [
       "Year                                  int64\n",
       "Nominal GDP prices (Ksh Million)     object\n",
       "Annual GDP growth (%)               float64\n",
       "Real GDP prices (Ksh Million)        object\n",
       "dtype: object"
      ]
     },
     "execution_count": 12,
     "metadata": {},
     "output_type": "execute_result"
    }
   ],
   "source": [
    "annual_GDP_df.dtypes"
   ]
  },
  {
   "cell_type": "code",
   "execution_count": 13,
   "metadata": {},
   "outputs": [
    {
     "data": {
      "text/plain": [
       "Date        object\n",
       " Open      float64\n",
       " High      float64\n",
       " Low       float64\n",
       " Close     float64\n",
       " Volume      int64\n",
       "dtype: object"
      ]
     },
     "execution_count": 13,
     "metadata": {},
     "output_type": "execute_result"
    }
   ],
   "source": [
    "historical_prices_df.dtypes"
   ]
  },
  {
   "cell_type": "markdown",
   "metadata": {},
   "source": [
    "### Check for missing values"
   ]
  },
  {
   "cell_type": "code",
   "execution_count": 14,
   "metadata": {},
   "outputs": [
    {
     "data": {
      "text/plain": [
       "Date       0\n",
       " Open      0\n",
       " High      0\n",
       " Low       0\n",
       " Close     0\n",
       " Volume    0\n",
       "dtype: int64"
      ]
     },
     "execution_count": 14,
     "metadata": {},
     "output_type": "execute_result"
    }
   ],
   "source": [
    "historical_prices_df.isnull().sum()"
   ]
  },
  {
   "cell_type": "code",
   "execution_count": 15,
   "metadata": {},
   "outputs": [
    {
     "data": {
      "text/plain": [
       "Date    0\n",
       "Rate    0\n",
       "dtype: int64"
      ]
     },
     "execution_count": 15,
     "metadata": {},
     "output_type": "execute_result"
    }
   ],
   "source": [
    "interest_rate_df.isnull().sum()"
   ]
  },
  {
   "cell_type": "code",
   "execution_count": 16,
   "metadata": {},
   "outputs": [
    {
     "data": {
      "text/plain": [
       "Year                                0\n",
       "Nominal GDP prices (Ksh Million)    0\n",
       "Annual GDP growth (%)               0\n",
       "Real GDP prices (Ksh Million)       0\n",
       "dtype: int64"
      ]
     },
     "execution_count": 16,
     "metadata": {},
     "output_type": "execute_result"
    }
   ],
   "source": [
    "annual_GDP_df.isnull().sum()"
   ]
  },
  {
   "cell_type": "code",
   "execution_count": 17,
   "metadata": {},
   "outputs": [
    {
     "data": {
      "text/plain": [
       "date                    0\n",
       " Inflation Rate (%)     0\n",
       " Annual Change          1\n",
       "                       63\n",
       "dtype: int64"
      ]
     },
     "execution_count": 17,
     "metadata": {},
     "output_type": "execute_result"
    }
   ],
   "source": [
    "inflation_df.isnull().sum()"
   ]
  },
  {
   "cell_type": "code",
   "execution_count": 18,
   "metadata": {},
   "outputs": [
    {
     "data": {
      "text/plain": [
       "date                0\n",
       " GDP Growth (%)     0\n",
       " Annual Change      1\n",
       "                   62\n",
       "dtype: int64"
      ]
     },
     "execution_count": 18,
     "metadata": {},
     "output_type": "execute_result"
    }
   ],
   "source": [
    "gdp_growth_df.isnull().sum()"
   ]
  },
  {
   "cell_type": "code",
   "execution_count": 19,
   "metadata": {},
   "outputs": [
    {
     "data": {
      "text/plain": [
       "Unnamed: 0      0\n",
       " GDP            0\n",
       " Per Capita     0\n",
       " Growth Rate    1\n",
       "dtype: int64"
      ]
     },
     "execution_count": 19,
     "metadata": {},
     "output_type": "execute_result"
    }
   ],
   "source": [
    "economic_growth_df.isnull().sum()"
   ]
  },
  {
   "cell_type": "markdown",
   "metadata": {},
   "source": [
    "### Dropping missing columns and rows, renaming columns"
   ]
  },
  {
   "cell_type": "code",
   "execution_count": 20,
   "metadata": {},
   "outputs": [
    {
     "data": {
      "text/html": [
       "<div>\n",
       "<style scoped>\n",
       "    .dataframe tbody tr th:only-of-type {\n",
       "        vertical-align: middle;\n",
       "    }\n",
       "\n",
       "    .dataframe tbody tr th {\n",
       "        vertical-align: top;\n",
       "    }\n",
       "\n",
       "    .dataframe thead th {\n",
       "        text-align: right;\n",
       "    }\n",
       "</style>\n",
       "<table border=\"1\" class=\"dataframe\">\n",
       "  <thead>\n",
       "    <tr style=\"text-align: right;\">\n",
       "      <th></th>\n",
       "      <th>date</th>\n",
       "      <th>GDP Growth (%)</th>\n",
       "      <th>Annual Change</th>\n",
       "    </tr>\n",
       "  </thead>\n",
       "  <tbody>\n",
       "    <tr>\n",
       "      <th>0</th>\n",
       "      <td>31/12/1961</td>\n",
       "      <td>-7.7746</td>\n",
       "      <td>NaN</td>\n",
       "    </tr>\n",
       "    <tr>\n",
       "      <th>1</th>\n",
       "      <td>31/12/1962</td>\n",
       "      <td>9.4574</td>\n",
       "      <td>17.23</td>\n",
       "    </tr>\n",
       "    <tr>\n",
       "      <th>2</th>\n",
       "      <td>31/12/1963</td>\n",
       "      <td>8.7783</td>\n",
       "      <td>-0.68</td>\n",
       "    </tr>\n",
       "    <tr>\n",
       "      <th>3</th>\n",
       "      <td>31/12/1964</td>\n",
       "      <td>4.9645</td>\n",
       "      <td>-3.81</td>\n",
       "    </tr>\n",
       "    <tr>\n",
       "      <th>4</th>\n",
       "      <td>31/12/1965</td>\n",
       "      <td>2.0091</td>\n",
       "      <td>-2.96</td>\n",
       "    </tr>\n",
       "    <tr>\n",
       "      <th>...</th>\n",
       "      <td>...</td>\n",
       "      <td>...</td>\n",
       "      <td>...</td>\n",
       "    </tr>\n",
       "    <tr>\n",
       "      <th>57</th>\n",
       "      <td>31/12/2018</td>\n",
       "      <td>5.6479</td>\n",
       "      <td>1.81</td>\n",
       "    </tr>\n",
       "    <tr>\n",
       "      <th>58</th>\n",
       "      <td>31/12/2019</td>\n",
       "      <td>5.1142</td>\n",
       "      <td>-0.53</td>\n",
       "    </tr>\n",
       "    <tr>\n",
       "      <th>59</th>\n",
       "      <td>31/12/2020</td>\n",
       "      <td>-0.2728</td>\n",
       "      <td>-5.39</td>\n",
       "    </tr>\n",
       "    <tr>\n",
       "      <th>60</th>\n",
       "      <td>31/12/2021</td>\n",
       "      <td>7.5905</td>\n",
       "      <td>7.86</td>\n",
       "    </tr>\n",
       "    <tr>\n",
       "      <th>61</th>\n",
       "      <td>31/12/2022</td>\n",
       "      <td>4.8466</td>\n",
       "      <td>-2.74</td>\n",
       "    </tr>\n",
       "  </tbody>\n",
       "</table>\n",
       "<p>62 rows × 3 columns</p>\n",
       "</div>"
      ],
      "text/plain": [
       "          date   GDP Growth (%)   Annual Change\n",
       "0   31/12/1961          -7.7746             NaN\n",
       "1   31/12/1962           9.4574           17.23\n",
       "2   31/12/1963           8.7783           -0.68\n",
       "3   31/12/1964           4.9645           -3.81\n",
       "4   31/12/1965           2.0091           -2.96\n",
       "..         ...              ...             ...\n",
       "57  31/12/2018           5.6479            1.81\n",
       "58  31/12/2019           5.1142           -0.53\n",
       "59  31/12/2020          -0.2728           -5.39\n",
       "60  31/12/2021           7.5905            7.86\n",
       "61  31/12/2022           4.8466           -2.74\n",
       "\n",
       "[62 rows x 3 columns]"
      ]
     },
     "execution_count": 20,
     "metadata": {},
     "output_type": "execute_result"
    }
   ],
   "source": [
    "gdp_growth_df.drop(' ', axis=1, inplace=True)\n",
    "gdp_growth_df"
   ]
  },
  {
   "cell_type": "code",
   "execution_count": 21,
   "metadata": {},
   "outputs": [
    {
     "data": {
      "text/html": [
       "<div>\n",
       "<style scoped>\n",
       "    .dataframe tbody tr th:only-of-type {\n",
       "        vertical-align: middle;\n",
       "    }\n",
       "\n",
       "    .dataframe tbody tr th {\n",
       "        vertical-align: top;\n",
       "    }\n",
       "\n",
       "    .dataframe thead th {\n",
       "        text-align: right;\n",
       "    }\n",
       "</style>\n",
       "<table border=\"1\" class=\"dataframe\">\n",
       "  <thead>\n",
       "    <tr style=\"text-align: right;\">\n",
       "      <th></th>\n",
       "      <th>date</th>\n",
       "      <th>Inflation Rate (%)</th>\n",
       "      <th>Annual Change</th>\n",
       "    </tr>\n",
       "  </thead>\n",
       "  <tbody>\n",
       "    <tr>\n",
       "      <th>0</th>\n",
       "      <td>31/12/1960</td>\n",
       "      <td>1.2438</td>\n",
       "      <td>NaN</td>\n",
       "    </tr>\n",
       "    <tr>\n",
       "      <th>1</th>\n",
       "      <td>31/12/1961</td>\n",
       "      <td>2.4570</td>\n",
       "      <td>1.21</td>\n",
       "    </tr>\n",
       "    <tr>\n",
       "      <th>2</th>\n",
       "      <td>31/12/1962</td>\n",
       "      <td>3.1175</td>\n",
       "      <td>0.66</td>\n",
       "    </tr>\n",
       "    <tr>\n",
       "      <th>3</th>\n",
       "      <td>31/12/1963</td>\n",
       "      <td>0.6977</td>\n",
       "      <td>-2.42</td>\n",
       "    </tr>\n",
       "    <tr>\n",
       "      <th>4</th>\n",
       "      <td>31/12/1964</td>\n",
       "      <td>-0.0993</td>\n",
       "      <td>-0.80</td>\n",
       "    </tr>\n",
       "    <tr>\n",
       "      <th>...</th>\n",
       "      <td>...</td>\n",
       "      <td>...</td>\n",
       "      <td>...</td>\n",
       "    </tr>\n",
       "    <tr>\n",
       "      <th>58</th>\n",
       "      <td>31/12/2018</td>\n",
       "      <td>4.6898</td>\n",
       "      <td>-3.32</td>\n",
       "    </tr>\n",
       "    <tr>\n",
       "      <th>59</th>\n",
       "      <td>31/12/2019</td>\n",
       "      <td>5.2359</td>\n",
       "      <td>0.55</td>\n",
       "    </tr>\n",
       "    <tr>\n",
       "      <th>60</th>\n",
       "      <td>31/12/2020</td>\n",
       "      <td>5.4048</td>\n",
       "      <td>0.17</td>\n",
       "    </tr>\n",
       "    <tr>\n",
       "      <th>61</th>\n",
       "      <td>31/12/2021</td>\n",
       "      <td>6.1109</td>\n",
       "      <td>0.71</td>\n",
       "    </tr>\n",
       "    <tr>\n",
       "      <th>62</th>\n",
       "      <td>31/12/2022</td>\n",
       "      <td>7.6569</td>\n",
       "      <td>1.55</td>\n",
       "    </tr>\n",
       "  </tbody>\n",
       "</table>\n",
       "<p>63 rows × 3 columns</p>\n",
       "</div>"
      ],
      "text/plain": [
       "          date   Inflation Rate (%)   Annual Change\n",
       "0   31/12/1960               1.2438             NaN\n",
       "1   31/12/1961               2.4570            1.21\n",
       "2   31/12/1962               3.1175            0.66\n",
       "3   31/12/1963               0.6977           -2.42\n",
       "4   31/12/1964              -0.0993           -0.80\n",
       "..         ...                  ...             ...\n",
       "58  31/12/2018               4.6898           -3.32\n",
       "59  31/12/2019               5.2359            0.55\n",
       "60  31/12/2020               5.4048            0.17\n",
       "61  31/12/2021               6.1109            0.71\n",
       "62  31/12/2022               7.6569            1.55\n",
       "\n",
       "[63 rows x 3 columns]"
      ]
     },
     "execution_count": 21,
     "metadata": {},
     "output_type": "execute_result"
    }
   ],
   "source": [
    "inflation_df.drop(' ', axis=1, inplace=True)\n",
    "inflation_df"
   ]
  },
  {
   "cell_type": "code",
   "execution_count": 22,
   "metadata": {},
   "outputs": [
    {
     "data": {
      "text/html": [
       "<div>\n",
       "<style scoped>\n",
       "    .dataframe tbody tr th:only-of-type {\n",
       "        vertical-align: middle;\n",
       "    }\n",
       "\n",
       "    .dataframe tbody tr th {\n",
       "        vertical-align: top;\n",
       "    }\n",
       "\n",
       "    .dataframe thead th {\n",
       "        text-align: right;\n",
       "    }\n",
       "</style>\n",
       "<table border=\"1\" class=\"dataframe\">\n",
       "  <thead>\n",
       "    <tr style=\"text-align: right;\">\n",
       "      <th></th>\n",
       "      <th>Date</th>\n",
       "      <th>GDP</th>\n",
       "      <th>Per Capita</th>\n",
       "      <th>Growth Rate</th>\n",
       "    </tr>\n",
       "  </thead>\n",
       "  <tbody>\n",
       "    <tr>\n",
       "      <th>0</th>\n",
       "      <td>date</td>\n",
       "      <td>Billions of US $</td>\n",
       "      <td>US $</td>\n",
       "      <td>Annual % Change</td>\n",
       "    </tr>\n",
       "    <tr>\n",
       "      <th>1</th>\n",
       "      <td>31/12/1960</td>\n",
       "      <td>0.791265459</td>\n",
       "      <td>102.0799</td>\n",
       "      <td>NaN</td>\n",
       "    </tr>\n",
       "    <tr>\n",
       "      <th>2</th>\n",
       "      <td>31/12/1961</td>\n",
       "      <td>0.792959472</td>\n",
       "      <td>98.5353</td>\n",
       "      <td>-7.7746</td>\n",
       "    </tr>\n",
       "    <tr>\n",
       "      <th>3</th>\n",
       "      <td>31/12/1962</td>\n",
       "      <td>0.8681114</td>\n",
       "      <td>103.7967</td>\n",
       "      <td>9.4574</td>\n",
       "    </tr>\n",
       "    <tr>\n",
       "      <th>4</th>\n",
       "      <td>31/12/1963</td>\n",
       "      <td>0.926589349</td>\n",
       "      <td>106.5388</td>\n",
       "      <td>8.7783</td>\n",
       "    </tr>\n",
       "    <tr>\n",
       "      <th>...</th>\n",
       "      <td>...</td>\n",
       "      <td>...</td>\n",
       "      <td>...</td>\n",
       "      <td>...</td>\n",
       "    </tr>\n",
       "    <tr>\n",
       "      <th>59</th>\n",
       "      <td>31/12/2018</td>\n",
       "      <td>92.20297994</td>\n",
       "      <td>1845.7834</td>\n",
       "      <td>5.6479</td>\n",
       "    </tr>\n",
       "    <tr>\n",
       "      <th>60</th>\n",
       "      <td>31/12/2019</td>\n",
       "      <td>100.3784358</td>\n",
       "      <td>1970.0801</td>\n",
       "      <td>5.1142</td>\n",
       "    </tr>\n",
       "    <tr>\n",
       "      <th>61</th>\n",
       "      <td>31/12/2020</td>\n",
       "      <td>100.6575056</td>\n",
       "      <td>1936.2508</td>\n",
       "      <td>-0.2728</td>\n",
       "    </tr>\n",
       "    <tr>\n",
       "      <th>62</th>\n",
       "      <td>31/12/2021</td>\n",
       "      <td>109.7036593</td>\n",
       "      <td>2069.6611</td>\n",
       "      <td>7.5905</td>\n",
       "    </tr>\n",
       "    <tr>\n",
       "      <th>63</th>\n",
       "      <td>31/12/2022</td>\n",
       "      <td>113.4200082</td>\n",
       "      <td>2099.3019</td>\n",
       "      <td>4.8466</td>\n",
       "    </tr>\n",
       "  </tbody>\n",
       "</table>\n",
       "<p>64 rows × 4 columns</p>\n",
       "</div>"
      ],
      "text/plain": [
       "          Date                GDP  Per Capita       Growth Rate\n",
       "0         date   Billions of US $        US $   Annual % Change\n",
       "1   31/12/1960        0.791265459    102.0799               NaN\n",
       "2   31/12/1961        0.792959472     98.5353           -7.7746\n",
       "3   31/12/1962          0.8681114    103.7967            9.4574\n",
       "4   31/12/1963        0.926589349    106.5388            8.7783\n",
       "..         ...                ...         ...               ...\n",
       "59  31/12/2018        92.20297994   1845.7834            5.6479\n",
       "60  31/12/2019        100.3784358   1970.0801            5.1142\n",
       "61  31/12/2020        100.6575056   1936.2508           -0.2728\n",
       "62  31/12/2021        109.7036593   2069.6611            7.5905\n",
       "63  31/12/2022        113.4200082   2099.3019            4.8466\n",
       "\n",
       "[64 rows x 4 columns]"
      ]
     },
     "execution_count": 22,
     "metadata": {},
     "output_type": "execute_result"
    }
   ],
   "source": [
    "new = {\"Unnamed: 0\" : \"Date\", \"GDP\" : \"GDP (Billions of US $)\", \"Per Capita\" : \"Per Capita (US $)\", \"Growth Rate\" : \"Growth Rate (Annual % Change)\"}\n",
    "economic_growth_df.rename(columns=new, inplace = True)\n",
    "economic_growth_df"
   ]
  },
  {
   "cell_type": "code",
   "execution_count": 23,
   "metadata": {},
   "outputs": [
    {
     "data": {
      "text/html": [
       "<div>\n",
       "<style scoped>\n",
       "    .dataframe tbody tr th:only-of-type {\n",
       "        vertical-align: middle;\n",
       "    }\n",
       "\n",
       "    .dataframe tbody tr th {\n",
       "        vertical-align: top;\n",
       "    }\n",
       "\n",
       "    .dataframe thead th {\n",
       "        text-align: right;\n",
       "    }\n",
       "</style>\n",
       "<table border=\"1\" class=\"dataframe\">\n",
       "  <thead>\n",
       "    <tr style=\"text-align: right;\">\n",
       "      <th></th>\n",
       "      <th>Date</th>\n",
       "      <th>GDP</th>\n",
       "      <th>Per Capita</th>\n",
       "      <th>Growth Rate</th>\n",
       "    </tr>\n",
       "  </thead>\n",
       "  <tbody>\n",
       "    <tr>\n",
       "      <th>1</th>\n",
       "      <td>31/12/1960</td>\n",
       "      <td>0.791265459</td>\n",
       "      <td>102.0799</td>\n",
       "      <td>NaN</td>\n",
       "    </tr>\n",
       "    <tr>\n",
       "      <th>2</th>\n",
       "      <td>31/12/1961</td>\n",
       "      <td>0.792959472</td>\n",
       "      <td>98.5353</td>\n",
       "      <td>-7.7746</td>\n",
       "    </tr>\n",
       "    <tr>\n",
       "      <th>3</th>\n",
       "      <td>31/12/1962</td>\n",
       "      <td>0.8681114</td>\n",
       "      <td>103.7967</td>\n",
       "      <td>9.4574</td>\n",
       "    </tr>\n",
       "    <tr>\n",
       "      <th>4</th>\n",
       "      <td>31/12/1963</td>\n",
       "      <td>0.926589349</td>\n",
       "      <td>106.5388</td>\n",
       "      <td>8.7783</td>\n",
       "    </tr>\n",
       "    <tr>\n",
       "      <th>5</th>\n",
       "      <td>31/12/1964</td>\n",
       "      <td>0.998759334</td>\n",
       "      <td>110.392</td>\n",
       "      <td>4.9645</td>\n",
       "    </tr>\n",
       "    <tr>\n",
       "      <th>...</th>\n",
       "      <td>...</td>\n",
       "      <td>...</td>\n",
       "      <td>...</td>\n",
       "      <td>...</td>\n",
       "    </tr>\n",
       "    <tr>\n",
       "      <th>59</th>\n",
       "      <td>31/12/2018</td>\n",
       "      <td>92.20297994</td>\n",
       "      <td>1845.7834</td>\n",
       "      <td>5.6479</td>\n",
       "    </tr>\n",
       "    <tr>\n",
       "      <th>60</th>\n",
       "      <td>31/12/2019</td>\n",
       "      <td>100.3784358</td>\n",
       "      <td>1970.0801</td>\n",
       "      <td>5.1142</td>\n",
       "    </tr>\n",
       "    <tr>\n",
       "      <th>61</th>\n",
       "      <td>31/12/2020</td>\n",
       "      <td>100.6575056</td>\n",
       "      <td>1936.2508</td>\n",
       "      <td>-0.2728</td>\n",
       "    </tr>\n",
       "    <tr>\n",
       "      <th>62</th>\n",
       "      <td>31/12/2021</td>\n",
       "      <td>109.7036593</td>\n",
       "      <td>2069.6611</td>\n",
       "      <td>7.5905</td>\n",
       "    </tr>\n",
       "    <tr>\n",
       "      <th>63</th>\n",
       "      <td>31/12/2022</td>\n",
       "      <td>113.4200082</td>\n",
       "      <td>2099.3019</td>\n",
       "      <td>4.8466</td>\n",
       "    </tr>\n",
       "  </tbody>\n",
       "</table>\n",
       "<p>63 rows × 4 columns</p>\n",
       "</div>"
      ],
      "text/plain": [
       "          Date          GDP  Per Capita  Growth Rate\n",
       "1   31/12/1960  0.791265459    102.0799          NaN\n",
       "2   31/12/1961  0.792959472     98.5353      -7.7746\n",
       "3   31/12/1962    0.8681114    103.7967       9.4574\n",
       "4   31/12/1963  0.926589349    106.5388       8.7783\n",
       "5   31/12/1964  0.998759334     110.392       4.9645\n",
       "..         ...          ...         ...          ...\n",
       "59  31/12/2018  92.20297994   1845.7834       5.6479\n",
       "60  31/12/2019  100.3784358   1970.0801       5.1142\n",
       "61  31/12/2020  100.6575056   1936.2508      -0.2728\n",
       "62  31/12/2021  109.7036593   2069.6611       7.5905\n",
       "63  31/12/2022  113.4200082   2099.3019       4.8466\n",
       "\n",
       "[63 rows x 4 columns]"
      ]
     },
     "execution_count": 23,
     "metadata": {},
     "output_type": "execute_result"
    }
   ],
   "source": [
    "economic_growth_df.drop(0, inplace=True)\n",
    "economic_growth_df"
   ]
  },
  {
   "cell_type": "markdown",
   "metadata": {},
   "source": [
    "### Transform data into a consistent time-series format."
   ]
  },
  {
   "cell_type": "code",
   "execution_count": 24,
   "metadata": {},
   "outputs": [
    {
     "data": {
      "text/plain": [
       "Date            datetime64[ns]\n",
       " GDP                    object\n",
       " Per Capita             object\n",
       " Growth Rate            object\n",
       "dtype: object"
      ]
     },
     "execution_count": 24,
     "metadata": {},
     "output_type": "execute_result"
    }
   ],
   "source": [
    "economic_growth_df['Date'] = pd.to_datetime(economic_growth_df['Date'])\n",
    "economic_growth_df.dtypes"
   ]
  },
  {
   "cell_type": "code",
   "execution_count": 25,
   "metadata": {},
   "outputs": [
    {
     "data": {
      "text/html": [
       "<div>\n",
       "<style scoped>\n",
       "    .dataframe tbody tr th:only-of-type {\n",
       "        vertical-align: middle;\n",
       "    }\n",
       "\n",
       "    .dataframe tbody tr th {\n",
       "        vertical-align: top;\n",
       "    }\n",
       "\n",
       "    .dataframe thead th {\n",
       "        text-align: right;\n",
       "    }\n",
       "</style>\n",
       "<table border=\"1\" class=\"dataframe\">\n",
       "  <thead>\n",
       "    <tr style=\"text-align: right;\">\n",
       "      <th></th>\n",
       "      <th>Date</th>\n",
       "      <th>GDP</th>\n",
       "      <th>Per Capita</th>\n",
       "      <th>Growth Rate</th>\n",
       "    </tr>\n",
       "  </thead>\n",
       "  <tbody>\n",
       "    <tr>\n",
       "      <th>1</th>\n",
       "      <td>1960-12-31</td>\n",
       "      <td>0.791265459</td>\n",
       "      <td>102.0799</td>\n",
       "      <td>NaN</td>\n",
       "    </tr>\n",
       "    <tr>\n",
       "      <th>2</th>\n",
       "      <td>1961-12-31</td>\n",
       "      <td>0.792959472</td>\n",
       "      <td>98.5353</td>\n",
       "      <td>-7.7746</td>\n",
       "    </tr>\n",
       "    <tr>\n",
       "      <th>3</th>\n",
       "      <td>1962-12-31</td>\n",
       "      <td>0.8681114</td>\n",
       "      <td>103.7967</td>\n",
       "      <td>9.4574</td>\n",
       "    </tr>\n",
       "    <tr>\n",
       "      <th>4</th>\n",
       "      <td>1963-12-31</td>\n",
       "      <td>0.926589349</td>\n",
       "      <td>106.5388</td>\n",
       "      <td>8.7783</td>\n",
       "    </tr>\n",
       "    <tr>\n",
       "      <th>5</th>\n",
       "      <td>1964-12-31</td>\n",
       "      <td>0.998759334</td>\n",
       "      <td>110.392</td>\n",
       "      <td>4.9645</td>\n",
       "    </tr>\n",
       "    <tr>\n",
       "      <th>...</th>\n",
       "      <td>...</td>\n",
       "      <td>...</td>\n",
       "      <td>...</td>\n",
       "      <td>...</td>\n",
       "    </tr>\n",
       "    <tr>\n",
       "      <th>59</th>\n",
       "      <td>2018-12-31</td>\n",
       "      <td>92.20297994</td>\n",
       "      <td>1845.7834</td>\n",
       "      <td>5.6479</td>\n",
       "    </tr>\n",
       "    <tr>\n",
       "      <th>60</th>\n",
       "      <td>2019-12-31</td>\n",
       "      <td>100.3784358</td>\n",
       "      <td>1970.0801</td>\n",
       "      <td>5.1142</td>\n",
       "    </tr>\n",
       "    <tr>\n",
       "      <th>61</th>\n",
       "      <td>2020-12-31</td>\n",
       "      <td>100.6575056</td>\n",
       "      <td>1936.2508</td>\n",
       "      <td>-0.2728</td>\n",
       "    </tr>\n",
       "    <tr>\n",
       "      <th>62</th>\n",
       "      <td>2021-12-31</td>\n",
       "      <td>109.7036593</td>\n",
       "      <td>2069.6611</td>\n",
       "      <td>7.5905</td>\n",
       "    </tr>\n",
       "    <tr>\n",
       "      <th>63</th>\n",
       "      <td>2022-12-31</td>\n",
       "      <td>113.4200082</td>\n",
       "      <td>2099.3019</td>\n",
       "      <td>4.8466</td>\n",
       "    </tr>\n",
       "  </tbody>\n",
       "</table>\n",
       "<p>63 rows × 4 columns</p>\n",
       "</div>"
      ],
      "text/plain": [
       "         Date          GDP  Per Capita  Growth Rate\n",
       "1  1960-12-31  0.791265459    102.0799          NaN\n",
       "2  1961-12-31  0.792959472     98.5353      -7.7746\n",
       "3  1962-12-31    0.8681114    103.7967       9.4574\n",
       "4  1963-12-31  0.926589349    106.5388       8.7783\n",
       "5  1964-12-31  0.998759334     110.392       4.9645\n",
       "..        ...          ...         ...          ...\n",
       "59 2018-12-31  92.20297994   1845.7834       5.6479\n",
       "60 2019-12-31  100.3784358   1970.0801       5.1142\n",
       "61 2020-12-31  100.6575056   1936.2508      -0.2728\n",
       "62 2021-12-31  109.7036593   2069.6611       7.5905\n",
       "63 2022-12-31  113.4200082   2099.3019       4.8466\n",
       "\n",
       "[63 rows x 4 columns]"
      ]
     },
     "execution_count": 25,
     "metadata": {},
     "output_type": "execute_result"
    }
   ],
   "source": [
    "economic_growth_df"
   ]
  },
  {
   "cell_type": "code",
   "execution_count": 26,
   "metadata": {},
   "outputs": [],
   "source": [
    "# Transform data into a consistent time-series format.\n",
    "historical_prices_df['Date'] = pd.to_datetime(historical_prices_df['Date'])\n",
    "interest_rate_df['Date'] = pd.to_datetime(interest_rate_df['Date'])\n",
    "inflation_df['date'] = pd.to_datetime(inflation_df['date'])\n",
    "gdp_growth_df['date'] = pd.to_datetime(gdp_growth_df['date'])"
   ]
  },
  {
   "cell_type": "code",
   "execution_count": 43,
   "metadata": {},
   "outputs": [],
   "source": [
    "# Engineer additional features, such as moving averages\n",
    "historical_prices_df['50_MA'] = historical_prices_df['Close'].rolling(window=50).mean()"
   ]
  },
  {
   "cell_type": "code",
   "execution_count": 32,
   "metadata": {},
   "outputs": [
    {
     "name": "stdout",
     "output_type": "stream",
     "text": [
      "Index(['Date', ' Open', ' High', ' Low', ' Close', ' Volume'], dtype='object')\n",
      "Index(['Date', 'Open', 'High', 'Low', 'Close', 'Volume'], dtype='object')\n"
     ]
    }
   ],
   "source": [
    "# Remove white spces\n",
    "# Display the current column names\n",
    "print(historical_prices_df.columns)\n",
    "\n",
    "# Remove white spaces from column names\n",
    "historical_prices_df.rename(columns=lambda x: x.strip(), inplace=True)\n",
    "\n",
    "# Display the updated column names\n",
    "print(historical_prices_df.columns)"
   ]
  },
  {
   "cell_type": "code",
   "execution_count": 37,
   "metadata": {},
   "outputs": [
    {
     "name": "stdout",
     "output_type": "stream",
     "text": [
      "Index(['Date', ' GDP', ' Per Capita', ' Growth Rate'], dtype='object')\n",
      "Index(['Date', 'GDP', 'Per Capita', 'Growth Rate'], dtype='object')\n"
     ]
    }
   ],
   "source": [
    "# Display the current column names\n",
    "print(economic_growth_df.columns)\n",
    "\n",
    "# Remove white spaces from column names\n",
    "economic_growth_df.rename(columns=lambda x: x.strip(), inplace=True)\n",
    "\n",
    "# Display the updated column names\n",
    "print(economic_growth_df.columns)"
   ]
  },
  {
   "cell_type": "code",
   "execution_count": 48,
   "metadata": {},
   "outputs": [
    {
     "name": "stdout",
     "output_type": "stream",
     "text": [
      "Index(['date', ' Inflation Rate (%)', ' Annual Change'], dtype='object')\n",
      "Index(['date', 'Inflation Rate (%)', 'Annual Change'], dtype='object')\n"
     ]
    }
   ],
   "source": [
    "# Display the current column names\n",
    "print(inflation_df.columns)\n",
    "\n",
    "# Remove white spaces from column names\n",
    "inflation_df.rename(columns=lambda x: x.strip(), inplace=True)\n",
    "\n",
    "# Display the updated column names\n",
    "print(inflation_df.columns)"
   ]
  },
  {
   "cell_type": "code",
   "execution_count": 46,
   "metadata": {
    "scrolled": true
   },
   "outputs": [
    {
     "name": "stdout",
     "output_type": "stream",
     "text": [
      "Index(['date', ' GDP Growth (%)', ' Annual Change'], dtype='object')\n",
      "Index(['date', 'GDP Growth (%)', 'Annual Change'], dtype='object')\n"
     ]
    }
   ],
   "source": [
    "# Display the current column names\n",
    "print(gdp_growth_df.columns)\n",
    "\n",
    "# Remove white spaces from column names\n",
    "gdp_growth_df.rename(columns=lambda x: x.strip(), inplace=True)\n",
    "\n",
    "# Display the updated column names\n",
    "print(gdp_growth_df.columns)"
   ]
  },
  {
   "cell_type": "markdown",
   "metadata": {},
   "source": [
    "# Exploratory Data Analysis"
   ]
  },
  {
   "cell_type": "markdown",
   "metadata": {},
   "source": [
    "\n",
    "### 1. Time Series Plots for Stock Prices:\n",
    "   - Plot Safaricom's stock prices over time to observe trends, seasonality, and potential anomalies."
   ]
  },
  {
   "cell_type": "code",
   "execution_count": 33,
   "metadata": {},
   "outputs": [
    {
     "data": {
      "image/png": "[encoded data removed]",
      "text/plain": [
       "<Figure size 864x432 with 1 Axes>"
      ]
     },
     "metadata": {
      "needs_background": "light"
     },
     "output_type": "display_data"
    }
   ],
   "source": [
    "plt.figure(figsize=(12, 6))\n",
    "plt.plot(historical_prices_df['Date'], historical_prices_df['Close'], label='Stock Price')\n",
    "plt.title('Safaricom Stock Prices Over Time')\n",
    "plt.xlabel('Date')\n",
    "plt.ylabel('Closing Price (Ksh)')\n",
    "plt.legend()\n",
    "plt.show()"
   ]
  },
  {
   "cell_type": "markdown",
   "metadata": {},
   "source": [
    "### 2. Correlation Heatmap:\n",
    "   - Visualize the correlation between different features in the Safaricom stock data.  "
   ]
  },
  {
   "cell_type": "code",
   "execution_count": 34,
   "metadata": {},
   "outputs": [
    {
     "data": {
      "image/png": "[encoded data removed]",
      "text/plain": [
       "<Figure size 720x576 with 2 Axes>"
      ]
     },
     "metadata": {
      "needs_background": "light"
     },
     "output_type": "display_data"
    }
   ],
   "source": [
    "correlation_matrix = historical_prices_df[['Open', 'High', 'Low', 'Close', 'Volume']].corr()\n",
    "plt.figure(figsize=(10, 8))\n",
    "sns.heatmap(correlation_matrix, annot=True, cmap='coolwarm', fmt=\".2f\")\n",
    "plt.title('Correlation Heatmap for Stock Features')\n",
    "plt.show()"
   ]
  },
  {
   "cell_type": "code",
   "execution_count": 42,
   "metadata": {},
   "outputs": [
    {
     "name": "stdout",
     "output_type": "stream",
     "text": [
      "           Close    Volume\n",
      "Close   1.000000 -0.131149\n",
      "Volume -0.131149  1.000000\n"
     ]
    }
   ],
   "source": [
    "# Analyze correlations between stock prices and trading volume\n",
    "correlation_matrix_2 = historical_prices_df[['Close', 'Volume']].corr()\n",
    "print(correlation_matrix_2)"
   ]
  },
  {
   "cell_type": "markdown",
   "metadata": {},
   "source": [
    "### 3. GDP Growth Over Time:\n",
    "   - Plot Kenya's GDP growth rate over the years."
   ]
  },
  {
   "cell_type": "code",
   "execution_count": 38,
   "metadata": {},
   "outputs": [
    {
     "data": {
      "image/png": "[encoded data removed]",
      "text/plain": [
       "<Figure size 864x432 with 1 Axes>"
      ]
     },
     "metadata": {
      "needs_background": "light"
     },
     "output_type": "display_data"
    }
   ],
   "source": [
    "plt.figure(figsize=(12, 6))\n",
    "plt.plot(economic_growth_df['Date'], economic_growth_df['Growth Rate'], label='GDP Growth Rate')\n",
    "plt.title('Kenya GDP Growth Rate Over Time')\n",
    "plt.xlabel('Year')\n",
    "plt.ylabel('GDP Growth Rate (%)')\n",
    "plt.legend()\n",
    "plt.show()"
   ]
  },
  {
   "cell_type": "markdown",
   "metadata": {},
   "source": [
    "### 4. Inflation Rate Trends:\n",
    "   - Visualize the inflation rate changes over time."
   ]
  },
  {
   "cell_type": "code",
   "execution_count": 39,
   "metadata": {},
   "outputs": [
    {
     "data": {
      "image/png": "[encoded data removed]",
      "text/plain": [
       "<Figure size 864x432 with 1 Axes>"
      ]
     },
     "metadata": {
      "needs_background": "light"
     },
     "output_type": "display_data"
    }
   ],
   "source": [
    "plt.figure(figsize=(12, 6))\n",
    "plt.plot(inflation_df['date'], inflation_df[' Inflation Rate (%)'], label='Inflation Rate')\n",
    "plt.title('Kenya Inflation Rate Over Time')\n",
    "plt.xlabel('Date')\n",
    "plt.ylabel('Inflation Rate (%)')\n",
    "plt.legend()\n",
    "plt.show()"
   ]
  },
  {
   "cell_type": "markdown",
   "metadata": {},
   "source": [
    "### 5. Interest Rate Changes:\n",
    "   - Plot the interest rate changes over time.  "
   ]
  },
  {
   "cell_type": "code",
   "execution_count": 40,
   "metadata": {},
   "outputs": [
    {
     "data": {
      "image/png": "[encoded data removed]",
      "text/plain": [
       "<Figure size 864x432 with 1 Axes>"
      ]
     },
     "metadata": {
      "needs_background": "light"
     },
     "output_type": "display_data"
    }
   ],
   "source": [
    "plt.figure(figsize=(12, 6))\n",
    "plt.plot(interest_rate_df['Date'], interest_rate_df['Rate'], label='Interest Rate')\n",
    "plt.title('Kenya Interest Rate Changes Over Time')\n",
    "plt.xlabel('Date')\n",
    "plt.ylabel('Interest Rate (%)')\n",
    "plt.legend()\n",
    "plt.show()"
   ]
  },
  {
   "cell_type": "markdown",
   "metadata": {},
   "source": [
    "### 6. Moving Averages\n",
    "- 50 day moving average"
   ]
  },
  {
   "cell_type": "code",
   "execution_count": 44,
   "metadata": {},
   "outputs": [
    {
     "data": {
      "image/png": "[encoded data removed]",
      "text/plain": [
       "<Figure size 864x432 with 1 Axes>"
      ]
     },
     "metadata": {
      "needs_background": "light"
     },
     "output_type": "display_data"
    }
   ],
   "source": [
    "plt.figure(figsize=(12, 6))\n",
    "\n",
    "# Plotting the original closing prices\n",
    "plt.plot(historical_prices_df['Date'], historical_prices_df['Close'], label='Stock Price', color='blue')\n",
    "\n",
    "# Plotting the 50-day moving average\n",
    "plt.plot(historical_prices_df['Date'], historical_prices_df['50_MA'], label='50-Day Moving Average', color='red')\n",
    "\n",
    "plt.title('Safaricom Stock Prices with 50-Day Moving Average')\n",
    "plt.xlabel('Date')\n",
    "plt.ylabel('Closing Price (Ksh)')\n",
    "plt.legend()\n",
    "plt.show()"
   ]
  },
  {
   "cell_type": "code",
   "execution_count": null,
   "metadata": {},
   "outputs": [],
   "source": []
  }
 ],
 "metadata": {
  "kernelspec": {
   "display_name": "Python 3",
   "language": "python",
   "name": "python3"
  },
  "language_info": {
   "codemirror_mode": {
    "name": "ipython",
    "version": 3
   },
   "file_extension": ".py",
   "mimetype": "text/x-python",
   "name": "python",
   "nbconvert_exporter": "python",
   "pygments_lexer": "ipython3",
   "version": "3.8.5"
  }
 },
 "nbformat": 4,
 "nbformat_minor": 4
}
